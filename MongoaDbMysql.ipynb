{
 "cells": [
  {
   "cell_type": "code",
   "execution_count": null,
   "metadata": {},
   "outputs": [],
   "source": [
    "import json\n",
    "import pymongo\n",
    "import pandas as pd\n",
    "import pymysql\n",
    "from sqlalchemy import create_engine"
   ]
  },
  {
   "cell_type": "code",
   "execution_count": null,
   "metadata": {},
   "outputs": [],
   "source": [
    "#Paso Mongo a Mysql\n",
    "#Exportariamos desde mongodb el archivo para su procedimiento a mysql:\n",
    "#Debemos tener creado el database antes de ejecutarlo\n",
    "\n",
    "cadenacon='mysql+pymysql://root@localhost:3306/proyectoanalisis'\n",
    "engine=create_engine(cadenacon)\n",
    "df=pd.read_csv(\"PlatziProyecto.csv\")\n",
    "print (df)\n",
    "df.to_sql(\"platzi\",con=engine,if_exists=\"replace\")"
   ]
  }
 ],
 "metadata": {
  "language_info": {
   "name": "python"
  },
  "orig_nbformat": 4
 },
 "nbformat": 4,
 "nbformat_minor": 2
}
