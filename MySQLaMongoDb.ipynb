{
 "cells": [
  {
   "cell_type": "code",
   "execution_count": null,
   "metadata": {},
   "outputs": [],
   "source": [
    "import pymysql\n",
    "import pandas as pd\n",
    "import sys\n",
    "import pymongo\n",
    "from sqlalchemy import create_engine, sql"
   ]
  },
  {
   "cell_type": "code",
   "execution_count": null,
   "metadata": {},
   "outputs": [],
   "source": [
    "#Realizamos la conexion de mysql donde se exportara a un archivo csv la lectura sql y despues conectaremos a Mongo para su envio\n",
    "#Como en los demas ejercicios del video\n",
    "cadenacon='mysql+pymysql://root@localhost:3306/proyectoanalisis'\n",
    "sql = \"SELECT * FROM platzi\"\n",
    "\n",
    "df = pd.read_sql(sql, cadenacon)\n",
    "print(df.head())\n",
    "#print df.head()\n",
    "#Export to CSV\n",
    "df.to_csv('PlatziNew.csv', index=False)\n",
    "print('Done')\n",
    "\n",
    "\n",
    "client=pymongo.MongoClient('mongodb://localhost:27017')\n",
    "df=pd.read_csv(\"PlatziNew.csv\")\n",
    "print(df.head())\n",
    "data=df.to_dict(orient=\"record\")\n",
    "print(data)\n",
    "db=client[\"PlatziAnalisis\"]\n",
    "print(db)\n",
    "db.Iris.insert_many(data)\n",
    "col=db['Info']"
   ]
  }
 ],
 "metadata": {
  "language_info": {
   "name": "python"
  },
  "orig_nbformat": 4
 },
 "nbformat": 4,
 "nbformat_minor": 2
}
