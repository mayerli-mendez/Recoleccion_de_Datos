{
 "cells": [
  {
   "cell_type": "code",
   "execution_count": 4,
   "id": "5c11c424",
   "metadata": {},
   "outputs": [
    {
     "name": "stdout",
     "output_type": "stream",
     "text": [
      "Defaulting to user installation because normal site-packages is not writeable\n",
      "Requirement already satisfied: facebook-scraper in c:\\users\\usuario\\appdata\\roaming\\python\\python310\\site-packages (0.2.52)\n",
      "Requirement already satisfied: requests-html<0.11.0,>=0.10.0 in c:\\users\\usuario\\appdata\\roaming\\python\\python310\\site-packages (from facebook-scraper) (0.10.0)\n",
      "Requirement already satisfied: browser-cookie3<0.14.0,>=0.13.0 in c:\\users\\usuario\\appdata\\roaming\\python\\python310\\site-packages (from facebook-scraper) (0.13.0)\n",
      "Requirement already satisfied: dateparser<2.0.0,>=1.0.0 in c:\\users\\usuario\\appdata\\roaming\\python\\python310\\site-packages (from facebook-scraper) (1.1.0)\n",
      "Requirement already satisfied: demjson3<4.0.0,>=3.0.5 in c:\\users\\usuario\\appdata\\roaming\\python\\python310\\site-packages (from facebook-scraper) (3.0.5)\n",
      "Requirement already satisfied: pyaes in c:\\users\\usuario\\appdata\\roaming\\python\\python310\\site-packages (from browser-cookie3<0.14.0,>=0.13.0->facebook-scraper) (1.6.1)\n",
      "Requirement already satisfied: pbkdf2 in c:\\users\\usuario\\appdata\\roaming\\python\\python310\\site-packages (from browser-cookie3<0.14.0,>=0.13.0->facebook-scraper) (1.3)\n",
      "Requirement already satisfied: keyring in c:\\users\\usuario\\appdata\\roaming\\python\\python310\\site-packages (from browser-cookie3<0.14.0,>=0.13.0->facebook-scraper) (23.5.0)\n",
      "Requirement already satisfied: lz4 in c:\\users\\usuario\\appdata\\roaming\\python\\python310\\site-packages (from browser-cookie3<0.14.0,>=0.13.0->facebook-scraper) (3.1.10)\n",
      "Requirement already satisfied: pycryptodome in c:\\users\\usuario\\appdata\\roaming\\python\\python310\\site-packages (from browser-cookie3<0.14.0,>=0.13.0->facebook-scraper) (3.14.0)\n",
      "Requirement already satisfied: SecretStorage in c:\\users\\usuario\\appdata\\roaming\\python\\python310\\site-packages (from browser-cookie3<0.14.0,>=0.13.0->facebook-scraper) (3.3.1)\n",
      "Requirement already satisfied: regex!=2019.02.19,!=2021.8.27 in c:\\users\\usuario\\appdata\\roaming\\python\\python310\\site-packages (from dateparser<2.0.0,>=1.0.0->facebook-scraper) (2022.1.18)\n",
      "Requirement already satisfied: pytz in c:\\users\\usuario\\appdata\\roaming\\python\\python310\\site-packages (from dateparser<2.0.0,>=1.0.0->facebook-scraper) (2021.3)\n",
      "Requirement already satisfied: tzlocal in c:\\users\\usuario\\appdata\\roaming\\python\\python310\\site-packages (from dateparser<2.0.0,>=1.0.0->facebook-scraper) (4.1)\n",
      "Requirement already satisfied: python-dateutil in c:\\users\\usuario\\appdata\\roaming\\python\\python310\\site-packages (from dateparser<2.0.0,>=1.0.0->facebook-scraper) (2.8.2)\n",
      "Requirement already satisfied: parse in c:\\users\\usuario\\appdata\\roaming\\python\\python310\\site-packages (from requests-html<0.11.0,>=0.10.0->facebook-scraper) (1.19.0)\n",
      "Requirement already satisfied: requests in c:\\users\\usuario\\appdata\\roaming\\python\\python310\\site-packages (from requests-html<0.11.0,>=0.10.0->facebook-scraper) (2.26.0)\n",
      "Requirement already satisfied: w3lib in c:\\users\\usuario\\appdata\\roaming\\python\\python310\\site-packages (from requests-html<0.11.0,>=0.10.0->facebook-scraper) (1.22.0)\n",
      "Requirement already satisfied: pyquery in c:\\users\\usuario\\appdata\\roaming\\python\\python310\\site-packages (from requests-html<0.11.0,>=0.10.0->facebook-scraper) (1.4.3)\n",
      "Requirement already satisfied: bs4 in c:\\users\\usuario\\appdata\\roaming\\python\\python310\\site-packages (from requests-html<0.11.0,>=0.10.0->facebook-scraper) (0.0.1)\n",
      "Requirement already satisfied: fake-useragent in c:\\users\\usuario\\appdata\\roaming\\python\\python310\\site-packages (from requests-html<0.11.0,>=0.10.0->facebook-scraper) (0.1.11)\n",
      "Requirement already satisfied: pyppeteer>=0.0.14 in c:\\users\\usuario\\appdata\\roaming\\python\\python310\\site-packages (from requests-html<0.11.0,>=0.10.0->facebook-scraper) (1.0.2)\n",
      "Requirement already satisfied: tqdm<5.0.0,>=4.42.1 in c:\\users\\usuario\\appdata\\roaming\\python\\python310\\site-packages (from pyppeteer>=0.0.14->requests-html<0.11.0,>=0.10.0->facebook-scraper) (4.62.3)\n",
      "Requirement already satisfied: pyee<9.0.0,>=8.1.0 in c:\\users\\usuario\\appdata\\roaming\\python\\python310\\site-packages (from pyppeteer>=0.0.14->requests-html<0.11.0,>=0.10.0->facebook-scraper) (8.2.2)\n",
      "Requirement already satisfied: urllib3<2.0.0,>=1.25.8 in c:\\users\\usuario\\appdata\\roaming\\python\\python310\\site-packages (from pyppeteer>=0.0.14->requests-html<0.11.0,>=0.10.0->facebook-scraper) (1.26.7)\n",
      "Requirement already satisfied: importlib-metadata>=1.4 in c:\\users\\usuario\\appdata\\roaming\\python\\python310\\site-packages (from pyppeteer>=0.0.14->requests-html<0.11.0,>=0.10.0->facebook-scraper) (4.10.1)\n",
      "Requirement already satisfied: websockets<11.0,>=10.0 in c:\\users\\usuario\\appdata\\roaming\\python\\python310\\site-packages (from pyppeteer>=0.0.14->requests-html<0.11.0,>=0.10.0->facebook-scraper) (10.1)\n",
      "Requirement already satisfied: certifi>=2021 in c:\\users\\usuario\\appdata\\roaming\\python\\python310\\site-packages (from pyppeteer>=0.0.14->requests-html<0.11.0,>=0.10.0->facebook-scraper) (2021.10.8)\n",
      "Requirement already satisfied: appdirs<2.0.0,>=1.4.3 in c:\\users\\usuario\\appdata\\roaming\\python\\python310\\site-packages (from pyppeteer>=0.0.14->requests-html<0.11.0,>=0.10.0->facebook-scraper) (1.4.4)\n",
      "Requirement already satisfied: beautifulsoup4 in c:\\users\\usuario\\appdata\\roaming\\python\\python310\\site-packages (from bs4->requests-html<0.11.0,>=0.10.0->facebook-scraper) (4.10.0)\n",
      "Requirement already satisfied: pywin32-ctypes!=0.1.0,!=0.1.1 in c:\\users\\usuario\\appdata\\roaming\\python\\python310\\site-packages (from keyring->browser-cookie3<0.14.0,>=0.13.0->facebook-scraper) (0.2.0)\n",
      "Requirement already satisfied: cssselect>0.7.9 in c:\\users\\usuario\\appdata\\roaming\\python\\python310\\site-packages (from pyquery->requests-html<0.11.0,>=0.10.0->facebook-scraper) (1.1.0)\n",
      "Requirement already satisfied: lxml>=2.1 in c:\\users\\usuario\\appdata\\roaming\\python\\python310\\site-packages (from pyquery->requests-html<0.11.0,>=0.10.0->facebook-scraper) (4.7.1)\n",
      "Requirement already satisfied: six>=1.5 in c:\\users\\usuario\\appdata\\roaming\\python\\python310\\site-packages (from python-dateutil->dateparser<2.0.0,>=1.0.0->facebook-scraper) (1.16.0)\n",
      "Requirement already satisfied: idna<4,>=2.5 in c:\\users\\usuario\\appdata\\roaming\\python\\python310\\site-packages (from requests->requests-html<0.11.0,>=0.10.0->facebook-scraper) (3.3)\n",
      "Requirement already satisfied: charset-normalizer~=2.0.0 in c:\\users\\usuario\\appdata\\roaming\\python\\python310\\site-packages (from requests->requests-html<0.11.0,>=0.10.0->facebook-scraper) (2.0.8)\n",
      "Requirement already satisfied: cryptography>=2.0 in c:\\users\\usuario\\appdata\\roaming\\python\\python310\\site-packages (from SecretStorage->browser-cookie3<0.14.0,>=0.13.0->facebook-scraper) (36.0.1)\n",
      "Requirement already satisfied: jeepney>=0.6 in c:\\users\\usuario\\appdata\\roaming\\python\\python310\\site-packages (from SecretStorage->browser-cookie3<0.14.0,>=0.13.0->facebook-scraper) (0.7.1)\n",
      "Requirement already satisfied: tzdata in c:\\users\\usuario\\appdata\\roaming\\python\\python310\\site-packages (from tzlocal->dateparser<2.0.0,>=1.0.0->facebook-scraper) (2021.5)\n",
      "Requirement already satisfied: pytz-deprecation-shim in c:\\users\\usuario\\appdata\\roaming\\python\\python310\\site-packages (from tzlocal->dateparser<2.0.0,>=1.0.0->facebook-scraper) (0.1.0.post0)\n",
      "Requirement already satisfied: cffi>=1.12 in c:\\users\\usuario\\appdata\\roaming\\python\\python310\\site-packages (from cryptography>=2.0->SecretStorage->browser-cookie3<0.14.0,>=0.13.0->facebook-scraper) (1.15.0)\n",
      "Requirement already satisfied: zipp>=0.5 in c:\\users\\usuario\\appdata\\roaming\\python\\python310\\site-packages (from importlib-metadata>=1.4->pyppeteer>=0.0.14->requests-html<0.11.0,>=0.10.0->facebook-scraper) (3.7.0)\n",
      "Requirement already satisfied: colorama in c:\\users\\usuario\\appdata\\roaming\\python\\python310\\site-packages (from tqdm<5.0.0,>=4.42.1->pyppeteer>=0.0.14->requests-html<0.11.0,>=0.10.0->facebook-scraper) (0.4.4)\n",
      "Requirement already satisfied: soupsieve>1.2 in c:\\users\\usuario\\appdata\\roaming\\python\\python310\\site-packages (from beautifulsoup4->bs4->requests-html<0.11.0,>=0.10.0->facebook-scraper) (2.3.1)\n",
      "Requirement already satisfied: pycparser in c:\\users\\usuario\\appdata\\roaming\\python\\python310\\site-packages (from cffi>=1.12->cryptography>=2.0->SecretStorage->browser-cookie3<0.14.0,>=0.13.0->facebook-scraper) (2.21)\n",
      "Note: you may need to restart the kernel to use updated packages.\n"
     ]
    },
    {
     "name": "stderr",
     "output_type": "stream",
     "text": [
      "WARNING: You are using pip version 22.0.2; however, version 22.0.3 is available.\n",
      "You should consider upgrading via the 'C:\\Program Files\\Python310\\python.exe -m pip install --upgrade pip' command.\n"
     ]
    }
   ],
   "source": [
    "pip install facebook-scraper"
   ]
  },
  {
   "cell_type": "code",
   "execution_count": 5,
   "id": "f6d0b7b5",
   "metadata": {},
   "outputs": [],
   "source": [
    "from facebook_scraper import get_posts\n",
    "import pymongo\n",
    "import json\n",
    "import time"
   ]
  },
  {
   "cell_type": "code",
   "execution_count": 6,
   "id": "7131f5ba",
   "metadata": {},
   "outputs": [],
   "source": [
    "from pymongo import MongoClient\n",
    "client = MongoClient(\"localhost\", 27017)\n",
    "dbs=client[\"facebook-platzi1\"]\n",
    "db=dbs.Documentos "
   ]
  },
  {
   "cell_type": "code",
   "execution_count": 7,
   "id": "a38b1b8b",
   "metadata": {},
   "outputs": [
    {
     "name": "stdout",
     "output_type": "stream",
     "text": [
      "1\n",
      "guardado exitosamente\n",
      "2\n",
      "guardado exitosamente\n",
      "3\n",
      "guardado exitosamente\n",
      "4\n",
      "guardado exitosamente\n",
      "5\n",
      "guardado exitosamente\n",
      "6\n",
      "guardado exitosamente\n",
      "7\n",
      "guardado exitosamente\n",
      "8\n",
      "guardado exitosamente\n",
      "9\n"
     ]
    },
    {
     "ename": "KeyboardInterrupt",
     "evalue": "",
     "output_type": "error",
     "traceback": [
      "\u001b[1;31m---------------------------------------------------------------------------\u001b[0m",
      "\u001b[1;31mKeyboardInterrupt\u001b[0m                         Traceback (most recent call last)",
      "\u001b[1;32m~\\AppData\\Local\\Temp/ipykernel_6392/60874936.py\u001b[0m in \u001b[0;36m<module>\u001b[1;34m\u001b[0m\n\u001b[0;32m      3\u001b[0m     \u001b[0mprint\u001b[0m\u001b[1;33m(\u001b[0m\u001b[0mi\u001b[0m\u001b[1;33m)\u001b[0m\u001b[1;33m\u001b[0m\u001b[1;33m\u001b[0m\u001b[0m\n\u001b[0;32m      4\u001b[0m     \u001b[0mi\u001b[0m\u001b[1;33m=\u001b[0m\u001b[0mi\u001b[0m\u001b[1;33m+\u001b[0m\u001b[1;36m1\u001b[0m\u001b[1;33m\u001b[0m\u001b[1;33m\u001b[0m\u001b[0m\n\u001b[1;32m----> 5\u001b[1;33m     \u001b[0mtime\u001b[0m\u001b[1;33m.\u001b[0m\u001b[0msleep\u001b[0m\u001b[1;33m(\u001b[0m\u001b[1;36m5\u001b[0m\u001b[1;33m)\u001b[0m\u001b[1;33m\u001b[0m\u001b[1;33m\u001b[0m\u001b[0m\n\u001b[0m\u001b[0;32m      6\u001b[0m \u001b[1;33m\u001b[0m\u001b[0m\n\u001b[0;32m      7\u001b[0m     \u001b[0mid\u001b[0m\u001b[1;33m=\u001b[0m\u001b[0mpost\u001b[0m\u001b[1;33m[\u001b[0m\u001b[1;34m'post_id'\u001b[0m\u001b[1;33m]\u001b[0m\u001b[1;33m\u001b[0m\u001b[1;33m\u001b[0m\u001b[0m\n",
      "\u001b[1;31mKeyboardInterrupt\u001b[0m: "
     ]
    }
   ],
   "source": [
    "i=1\n",
    "for post in get_posts('platzi', pages=10, extra_info=True):\n",
    "    print(i)\n",
    "    i=i+1\n",
    "    time.sleep(5)\n",
    "    \n",
    "    id=post['post_id']\n",
    "    doc={}\n",
    "     \n",
    "    doc['id']=id\n",
    "    \n",
    "    mydate=post['time']\n",
    "    \n",
    "    try:\n",
    "        doc['texto']=post['text']\n",
    "        doc['date']=mydate.timestamp()\n",
    "        doc['likes']=post['likes']\n",
    "        doc['comments']=post['comments']\n",
    "        doc['shares']=post['shares']\n",
    "        try:\n",
    "            doc['reactions']=post['reactions']\n",
    "        except:\n",
    "            doc['reactions']={}\n",
    "\n",
    "        doc['post_url']=post['post_url']\n",
    "        db.insert_one(doc)              \n",
    "\n",
    "    \n",
    "        print(\"guardado exitosamente\")\n",
    "\n",
    "    except Exception as e:    \n",
    "        print(\"no se pudo grabar:\" + str(e))"
   ]
  },
  {
   "cell_type": "code",
   "execution_count": null,
   "id": "8b9255b0",
   "metadata": {},
   "outputs": [],
   "source": []
  }
 ],
 "metadata": {
  "kernelspec": {
   "display_name": "Python 3 (ipykernel)",
   "language": "python",
   "name": "python3"
  },
  "language_info": {
   "codemirror_mode": {
    "name": "ipython",
    "version": 3
   },
   "file_extension": ".py",
   "mimetype": "text/x-python",
   "name": "python",
   "nbconvert_exporter": "python",
   "pygments_lexer": "ipython3",
   "version": "3.10.0"
  }
 },
 "nbformat": 4,
 "nbformat_minor": 5
}
