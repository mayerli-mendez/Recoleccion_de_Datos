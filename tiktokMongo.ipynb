{
 "cells": [
  {
   "cell_type": "code",
   "execution_count": null,
   "metadata": {},
   "outputs": [],
   "source": [
    "import json\n",
    "import pymongo\n",
    "import pandas as pd\n",
    "import pymysql\n",
    "from sqlalchemy import create_engine"
   ]
  },
  {
   "cell_type": "code",
   "execution_count": null,
   "metadata": {},
   "outputs": [],
   "source": [
    "#Primeramente descargaremos un archivo json de tiktok-scraper con el nombre de \"prazi\"\n",
    "#Utilizaremos el codigo de json a Mongo para poder mandar nuestro archivo json a su base de datos\n",
    "#Clave de trabajo 5-6-13-14\n",
    "#Paso Tiktok a Mongo\n",
    "         #Primeramente descargaremos el archivo tiktok de consola\n",
    "         #Utilizacion del codigo\n",
    "client=pymongo.MongoClient('mongodb://localhost:27017')\n",
    "df=pd.read_csv(\"PlatziProyecto.csv\")\n",
    "print(df.head())\n",
    "data=df.to_dict(orient=\"record\")\n",
    "print(data)\n",
    "db=client[\"PlatziProyectos\"]\n",
    "print(db)\n",
    "db.Platzi1.insert_many(data)\n",
    "col=db['Info']"
   ]
  }
 ],
 "metadata": {
  "language_info": {
   "name": "python"
  },
  "orig_nbformat": 4
 },
 "nbformat": 4,
 "nbformat_minor": 2
}
