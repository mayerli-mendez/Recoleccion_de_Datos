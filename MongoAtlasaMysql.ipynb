{
 "cells": [
  {
   "cell_type": "code",
   "execution_count": null,
   "metadata": {},
   "outputs": [],
   "source": [
    "import pymysql\n",
    "import pandas as pd\n",
    "import sys\n",
    "import pymongo\n",
    "from sqlalchemy import create_engine, sql\n",
    "import pandas as pd"
   ]
  },
  {
   "cell_type": "code",
   "execution_count": null,
   "metadata": {},
   "outputs": [],
   "source": [
    "#Exportar un archivo json mediante los comandos dados de Atlas Mongo y luego reparar ese json con la pagina indicada en el video\n",
    "#Para realizar la ejecucion de este codigo python\n",
    "df = pd.read_json (r'ProductoPlatzi.json')\n",
    "df.to_csv (r'New_ProductsPlatzi.csv', index = None)\n",
    "cadenacon='mysql+pymysql://root@localhost:3306/proyectoanalisis'\n",
    "engine=create_engine(cadenacon)\n",
    "df=pd.read_csv(\"New_ProductsPlatzi.csv\")\n",
    "print (df)\n",
    "df.to_sql(\"Registroplatzi\",con=engine,if_exists=\"replace\")"
   ]
  }
 ],
 "metadata": {
  "language_info": {
   "name": "python"
  },
  "orig_nbformat": 4
 },
 "nbformat": 4,
 "nbformat_minor": 2
}
