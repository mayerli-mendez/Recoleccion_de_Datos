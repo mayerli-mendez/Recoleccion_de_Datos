{
 "cells": [
  {
   "cell_type": "code",
   "execution_count": 1,
   "id": "a5685f83",
   "metadata": {},
   "outputs": [],
   "source": [
    "import tweepy\n",
    "import json\n",
    "import requests\n",
    "from pymongo import MongoClient "
   ]
  },
  {
   "cell_type": "code",
   "execution_count": 2,
   "id": "9b249551",
   "metadata": {},
   "outputs": [],
   "source": [
    "###API ########################\n",
    "ckey = \"ifMAsPCa1ZhCB3aoPUWXj54Y0\"\n",
    "csecret = \"WMIBpPlNBKOZHvmNeze4GrfXa6RleXuNQ9iP5ckhQcZcgwqYJW\"\n",
    "atoken = \"177310143-XGnZue1pBJUZy2SMMNa9AyLUzrGT3PNkAPwNtCES\"\n",
    "asecret = \"8103acco1QdG5Hx2HDFlBIA0ZpT47KNRv11oLXXWNRrQd\""
   ]
  },
  {
   "cell_type": "code",
   "execution_count": 3,
   "id": "bc92b501",
   "metadata": {},
   "outputs": [],
   "source": [
    "class listener (tweepy.Stream):\n",
    "    def on_data(self, data):\n",
    "        dictTweet = json.loads(data)\n",
    "        try:\n",
    "            dictTweet[\"_id\"] = str(dictTweet['id'])\n",
    "            doc = col.insert_one(dictTweet)\n",
    "            print (\"SAVED\" +str (doc) + \"=>\"+ str(data))\n",
    "        except:\n",
    "            print(\"Already exists\")\n",
    "            pass\n",
    "        return True\n",
    "    def on_error(self, status):\n",
    "        print(status)\n"
   ]
  },
  {
   "cell_type": "code",
   "execution_count": 4,
   "id": "bfa4548f",
   "metadata": {},
   "outputs": [],
   "source": [
    "twitter_stream = listener(ckey, csecret, atoken, asecret )"
   ]
  },
  {
   "cell_type": "code",
   "execution_count": 5,
   "id": "850d059b",
   "metadata": {},
   "outputs": [
    {
     "name": "stdout",
     "output_type": "stream",
     "text": [
      "Conexion exitosa\n"
     ]
    }
   ],
   "source": [
    "try:\n",
    "    client = MongoClient('mongodb://localhost:27017')\n",
    "    client.server_info()\n",
    "    print(\"Conexion exitosa\")\n",
    "    client.close\n",
    "except pymongo.errors.ServerSelectionTimeoutError as errorTiempo:\n",
    "    print(\"Conexión rechazada\") "
   ]
  },
  {
   "cell_type": "code",
   "execution_count": null,
   "id": "cc1eb715",
   "metadata": {},
   "outputs": [],
   "source": [
    "dbm = client['dbtwitter']\n",
    "col = dbm['platzi']\n"
   ]
  },
  {
   "cell_type": "code",
   "execution_count": null,
   "id": "10ddc7cc",
   "metadata": {},
   "outputs": [],
   "source": [
    "twitter_stream.filter(track=['platzi'])"
   ]
  }
 ],
 "metadata": {
  "kernelspec": {
   "display_name": "Python 3 (ipykernel)",
   "language": "python",
   "name": "python3"
  },
  "language_info": {
   "codemirror_mode": {
    "name": "ipython",
    "version": 3
   },
   "file_extension": ".py",
   "mimetype": "text/x-python",
   "name": "python",
   "nbconvert_exporter": "python",
   "pygments_lexer": "ipython3",
   "version": "3.10.1"
  }
 },
 "nbformat": 4,
 "nbformat_minor": 5
}
